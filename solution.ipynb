{
 "cells": [
  {
   "cell_type": "markdown",
   "metadata": {},
   "source": [
    "# Filtro de Spam \n",
    "\n",
    "Este projeto, proposto na disciplina de **Aprendizado de Máquina**, tem como objetivo classificar e-mails como spam ou legítimos através do algoritmo _Naive Bayes_.\n",
    "\n",
    "Estaremos utilizando o [dataset](https://archive.ics.uci.edu/ml/datasets/SMS+Spam+Collection) da _UCI Machine Learning Repository_.\n",
    "\n",
    "O trabalho está dividido da seguinte forma:\n",
    "1. [Implementar os tópicos em \"ToDo\";](#implementar-todos)\n",
    "2. [Explicar o que significa \"Bag of Words\";](#bag-of-words)\n",
    "3. [Explicar a diferença entre especificidade e sensitividade;](#especificidade-x-sensitividade)\n",
    "4. [Implementar o Naive Bayes e comparar com um dos algoritmos vistos no ML tour;](#naive-bayes-x-regressão-logística)\n",
    "5. [Fazer uma lista dos prós e contras do Naive Bayes e do algoritmo escolhido.](#prós-e-contras)"
   ]
  },
  {
   "cell_type": "markdown",
   "metadata": {},
   "source": [
    "## Implementar ToDos\n",
    "\n",
    "> **Instrução:** Responder/implementar corretamente todos os tópicos em \"ToDo\"\n",
    "\n",
    "Este tópico foi inteiramente resolvido dentro de [Bayesian_Inference.ipynb](Bayesian_Inference.ipynb)"
   ]
  },
  {
   "cell_type": "markdown",
   "metadata": {},
   "source": [
    "## Bag of Words\n",
    "\n",
    "> **Instrução:** Explicar o que significa o \"Bag of Words\"\n",
    "\n",
    "_Bag of Words_ (BoW) é uma técnica utilizada para representar dados de texto como um vetor numérico. Ela essencialmente conta a frequência de palavras ignorando a ordem em que elas ocorrem.\n",
    "\n",
    "De forma exemplificada, considere as seguintes frases:\n",
    "- **Frase 0:** O tempo perguntou ao tempo quanto tempo o tempo tem\n",
    "- **Frase 1:** Uma breve história do tempo\n",
    "\n",
    "Podemos visualizá-las em forma de matriz: cada linha `i` representa uma frase, enquanto a coluna `j` representa uma palavra. A entrada `ij` da matriz guarda a frequência em que a palavra `j` aparece na frase `i`. \n",
    "\n",
    "Ignorando a diferença entre maiúsculas e minúsculas, teríamos:\n",
    "\n",
    "|   | o | tempo | perguntou | ao | quanto | tem | uma | breve | história | do |\n",
    "|:-:|:-:|:-----:|:---------:|:--:|:------:|:---:|:---:|:-----:|:--------:|:--:|\n",
    "| **0** | 2 | 4 | 1 | 1 | 1 | 1 | 0 | 0 | 0 | 0 |\n",
    "| **1** | 0 | 1 | 0 | 0 | 0 | 0 | 1 | 1 | 1 | 1 |"
   ]
  },
  {
   "cell_type": "markdown",
   "metadata": {},
   "source": [
    "## Especificidade x Sensitividade\n",
    "\n",
    "> **Instrução:** Explicar a diferença entre especificidade e sensitividade. Dê dois exemplos práticos, uma em que a especificidade parece ser mais adequada do que a sensitividade e vice-versa\n",
    "\n",
    "A **sensitividade** de um teste, também chamada de taxa de verdadeiro positivo (TPR) ou  _recall_, é a taxa de positivos que foram corretamente identificados como positivos\n",
    "\n",
    "A sensibilidade pode ser calculada da seguinte forma:\n",
    "```\n",
    "sensibilidade = #[verdadeiros positivos] / (#[verdadeiros positivos] + #[falsos negativos])\n",
    "```\n",
    "\n",
    "Já a **especificidade** de um teste, também chamada de taxa de verdadeiro negativo (TNR), é a taxa de negativos que foram corretamente identificados como negativos, i.e, \n",
    "```\n",
    "especificidade = #[verdadeiros negativos] / (#[verdadeiros negativos] + #[falsos positivos])\n",
    "```\n",
    "\n",
    "A escolha entre algoritmos que priorizam sensibilidade ou especificidade depende diretamente da natureza do problema.\n",
    "\n",
    "Por exemplo, em um teste para detecção de câncer, é importante priorizar a sensitividade para garantir que a maior parte dos casos positivos seja identificada. Perder um positivo (paciente com câncer) por falta de tratamento seria muito grave.\n",
    "\n",
    "Em contrapartida, um filtro de spam deve priorizar a especificidade. Receber um spam é menos pior do que perder uma mensagem importante."
   ]
  },
  {
   "cell_type": "markdown",
   "metadata": {},
   "source": [
    "## Naive Bayes x Regressão logística\n",
    "\n",
    "> **Instrução:** Implementar o Naive Bayes conforme indica o roteiro e comparar com um (1) dos algoritmos vistos no ML tour, justificando a escolha do melhor modelo. É para comparar o Naive Bayes com um e apenas um algoritmo\n",
    "\n",
    "Como visto em [Bayesian_Inference.ipynb](Bayesian_Inference.ipynb), os resultados que tivemos com o _Naive Bayes_ foram os seguintes:"
   ]
  },
  {
   "cell_type": "code",
   "execution_count": 2,
   "metadata": {},
   "outputs": [],
   "source": [
    "# Accuracy score\n",
    "nb_accuracy = 0.9885139985642498\n",
    "\n",
    "# Precision score  \n",
    "nb_precision = 0.9720670391061452\n",
    "\n",
    "# Recall score\n",
    "nb_recall = 0.9405405405405406\n",
    "\n",
    "# F1 score\n",
    "nb_f1 = 0.9560439560439562"
   ]
  },
  {
   "cell_type": "markdown",
   "metadata": {},
   "source": [
    "Faremos o mesmo com a Regressão Logística para fins de comparação."
   ]
  },
  {
   "cell_type": "code",
   "execution_count": 3,
   "metadata": {},
   "outputs": [
    {
     "ename": "ModuleNotFoundError",
     "evalue": "No module named 'pandas'",
     "output_type": "error",
     "traceback": [
      "\u001b[1;31m---------------------------------------------------------------------------\u001b[0m",
      "\u001b[1;31mModuleNotFoundError\u001b[0m                       Traceback (most recent call last)",
      "Cell \u001b[1;32mIn[3], line 1\u001b[0m\n\u001b[1;32m----> 1\u001b[0m \u001b[38;5;28;01mimport\u001b[39;00m \u001b[38;5;21;01mpandas\u001b[39;00m \u001b[38;5;28;01mas\u001b[39;00m \u001b[38;5;21;01mpd\u001b[39;00m\n\u001b[0;32m      2\u001b[0m \u001b[38;5;66;03m# Dataset from - https://archive.ics.uci.edu/ml/datasets/SMS+Spam+Collection\u001b[39;00m\n\u001b[0;32m      3\u001b[0m df \u001b[38;5;241m=\u001b[39m pd\u001b[38;5;241m.\u001b[39mread_table(\u001b[38;5;124m'\u001b[39m\u001b[38;5;124mcollection/SMSSpamCollection\u001b[39m\u001b[38;5;124m'\u001b[39m, \n\u001b[0;32m      4\u001b[0m                     sep\u001b[38;5;241m=\u001b[39m\u001b[38;5;124m'\u001b[39m\u001b[38;5;130;01m\\t\u001b[39;00m\u001b[38;5;124m'\u001b[39m,\n\u001b[0;32m      5\u001b[0m                     names\u001b[38;5;241m=\u001b[39m[\u001b[38;5;124m'\u001b[39m\u001b[38;5;124mlabel\u001b[39m\u001b[38;5;124m'\u001b[39m, \u001b[38;5;124m'\u001b[39m\u001b[38;5;124mmessage\u001b[39m\u001b[38;5;124m'\u001b[39m])\n",
      "\u001b[1;31mModuleNotFoundError\u001b[0m: No module named 'pandas'"
     ]
    }
   ],
   "source": [
    "import pandas as pd\n",
    "# Dataset from - https://archive.ics.uci.edu/ml/datasets/SMS+Spam+Collection\n",
    "df = pd.read_table('collection/SMSSpamCollection', \n",
    "                    sep='\\t',\n",
    "                    names=['label', 'message'])\n",
    "\n",
    "# Output printing out first 5 columns\n",
    "df.head()"
   ]
  },
  {
   "cell_type": "markdown",
   "metadata": {},
   "source": [
    "## Prós e contras\n",
    "\n",
    "> **Instrução:** Você deverá fazer uma lista dos prós e contras do Naive Bayes e do algoritmo escolhido. Você deve explicar o resultado obtido com base nas características dos dois algoritmos avaliado. Você teria algum insight relevante para me apresentar?"
   ]
  },
  {
   "cell_type": "markdown",
   "metadata": {},
   "source": []
  }
 ],
 "metadata": {
  "kernelspec": {
   "display_name": "base",
   "language": "python",
   "name": "python3"
  },
  "language_info": {
   "codemirror_mode": {
    "name": "ipython",
    "version": 3
   },
   "file_extension": ".py",
   "mimetype": "text/x-python",
   "name": "python",
   "nbconvert_exporter": "python",
   "pygments_lexer": "ipython3",
   "version": "3.11.2"
  }
 },
 "nbformat": 4,
 "nbformat_minor": 2
}
